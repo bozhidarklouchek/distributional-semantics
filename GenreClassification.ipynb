{
  "cells": [
    {
      "cell_type": "markdown",
      "metadata": {},
      "source": [
        "# Classifying genres of movie synopses"
      ]
    },
    {
      "cell_type": "markdown",
      "metadata": {
        "id": "4Zr95Gyqgcir"
      },
      "source": [
        "#  1. Set up Environment"
      ]
    },
    {
      "cell_type": "markdown",
      "metadata": {
        "id": "a7WzeVirgh9g"
      },
      "source": [
        "## Required Imports"
      ]
    },
    {
      "cell_type": "code",
      "execution_count": 1,
      "metadata": {
        "id": "4zWt3YCg8_Ke"
      },
      "outputs": [
        {
          "name": "stdout",
          "output_type": "stream",
          "text": [
            "WARNING:tensorflow:From C:\\Users\\klouc\\AppData\\Local\\Packages\\PythonSoftwareFoundation.Python.3.9_qbz5n2kfra8p0\\LocalCache\\local-packages\\Python39\\site-packages\\keras\\src\\losses.py:2976: The name tf.losses.sparse_softmax_cross_entropy is deprecated. Please use tf.compat.v1.losses.sparse_softmax_cross_entropy instead.\n",
            "\n"
          ]
        }
      ],
      "source": [
        "import pandas as pd\n",
        "\n",
        "import numpy as np\n",
        "\n",
        "from sklearn.svm import LinearSVC\n",
        "from sklearn.pipeline import Pipeline\n",
        "from sklearn.multiclass import OneVsRestClassifier\n",
        "from sklearn.feature_extraction.text import TfidfVectorizer\n",
        "\n",
        "from keras.models import Sequential\n",
        "from keras.layers import Activation, Dense, LSTM, Bidirectional, Embedding, TextVectorization, Input\n",
        "from keras.optimizers import Adam\n",
        "\n",
        "from random import shuffle\n",
        "\n",
        "from time import time\n",
        "\n",
        "from datetime import timedelta\n",
        "\n",
        "from tqdm import tqdm"
      ]
    },
    {
      "cell_type": "markdown",
      "metadata": {
        "id": "Pp5alTzvgmwX"
      },
      "source": [
        "## Constants"
      ]
    },
    {
      "cell_type": "code",
      "execution_count": 2,
      "metadata": {
        "id": "60DyhqDd8M_Q"
      },
      "outputs": [],
      "source": [
        "CWD = \"./data\"\n",
        "TRAINING_DATA = 'Training-dataset.csv'\n",
        "VALIDATION_DATA = 'Validation-dataset-genres.csv'\n",
        "TEST_DATA = 'Test-dataset-genres.csv'\n",
        "\n",
        "ID = 'ID'\n",
        "TITLE = 'title'\n",
        "PLOT_SYNOPSIS = 'plot_synopsis'\n",
        "COMEDY = 'comedy'\n",
        "CULT = 'cult'\n",
        "FLASHBACK = 'flashback'\n",
        "HISTORICAL = 'historical'\n",
        "MURDER = 'murder'\n",
        "REVENGE = 'revenge'\n",
        "ROMANTIC = 'romantic'\n",
        "SCIFI = 'scifi'\n",
        "VIOLENCE = 'violence'\n",
        "TAGS = [COMEDY, CULT, FLASHBACK, HISTORICAL, MURDER, REVENGE,\n",
        "        ROMANTIC, SCIFI, VIOLENCE]\n",
        "INDEX_TAGS = [0, 1, 2, 3, 4, 5, 6, 7, 8]\n",
        "\n",
        "OUTPUT_MODE = 'int'\n",
        "\n",
        "SYNOPSIS_LENGHT_THRESHOLD = 1000\n",
        "MAXIMUM_SEQUENCE_LENGTH = 256\n",
        "MAXIMUM_FEATURE_COUNT = 90000\n",
        "EMBEDDING_SIZE = 300\n",
        "\n",
        "EPOCHS = 10\n",
        "LEARNING_RATE = 1e-3"
      ]
    },
    {
      "cell_type": "markdown",
      "metadata": {
        "id": "fSoEt_4_gqIP"
      },
      "source": [
        "# 2. Load in Data"
      ]
    },
    {
      "cell_type": "markdown",
      "metadata": {
        "id": "letLNh-Agq0s"
      },
      "source": [
        "## Training Data"
      ]
    },
    {
      "cell_type": "code",
      "execution_count": 3,
      "metadata": {
        "colab": {
          "base_uri": "https://localhost:8080/",
          "height": 990
        },
        "id": "ELrQdMku831d",
        "outputId": "41cf272b-4990-4424-af97-34f91eb90da3"
      },
      "outputs": [
        {
          "name": "stdout",
          "output_type": "stream",
          "text": [
            "Training movie data count: 8257\n",
            "Training movie data count after NaN check: 8257\n",
            "Training movie data count after threshold check: 8188\n"
          ]
        },
        {
          "data": {
            "text/html": [
              "<div>\n",
              "<style scoped>\n",
              "    .dataframe tbody tr th:only-of-type {\n",
              "        vertical-align: middle;\n",
              "    }\n",
              "\n",
              "    .dataframe tbody tr th {\n",
              "        vertical-align: top;\n",
              "    }\n",
              "\n",
              "    .dataframe thead th {\n",
              "        text-align: right;\n",
              "    }\n",
              "</style>\n",
              "<table border=\"1\" class=\"dataframe\">\n",
              "  <thead>\n",
              "    <tr style=\"text-align: right;\">\n",
              "      <th></th>\n",
              "      <th>ID</th>\n",
              "      <th>title</th>\n",
              "      <th>plot_synopsis</th>\n",
              "      <th>comedy</th>\n",
              "      <th>cult</th>\n",
              "      <th>flashback</th>\n",
              "      <th>historical</th>\n",
              "      <th>murder</th>\n",
              "      <th>revenge</th>\n",
              "      <th>romantic</th>\n",
              "      <th>scifi</th>\n",
              "      <th>violence</th>\n",
              "    </tr>\n",
              "  </thead>\n",
              "  <tbody>\n",
              "    <tr>\n",
              "      <th>0</th>\n",
              "      <td>8f5203de-b2f8-4c0c-b0c1-835ba92422e9</td>\n",
              "      <td>Si wang ta</td>\n",
              "      <td>After a recent amount of challenges, Billy Lo ...</td>\n",
              "      <td>0</td>\n",
              "      <td>0</td>\n",
              "      <td>0</td>\n",
              "      <td>0</td>\n",
              "      <td>1</td>\n",
              "      <td>1</td>\n",
              "      <td>0</td>\n",
              "      <td>0</td>\n",
              "      <td>1</td>\n",
              "    </tr>\n",
              "    <tr>\n",
              "      <th>1</th>\n",
              "      <td>6416fe15-6f8a-41d4-8a78-3e8f120781c7</td>\n",
              "      <td>Shattered Vengeance</td>\n",
              "      <td>In the crime-ridden city of Tremont, renowned ...</td>\n",
              "      <td>0</td>\n",
              "      <td>0</td>\n",
              "      <td>0</td>\n",
              "      <td>0</td>\n",
              "      <td>1</td>\n",
              "      <td>1</td>\n",
              "      <td>1</td>\n",
              "      <td>0</td>\n",
              "      <td>1</td>\n",
              "    </tr>\n",
              "    <tr>\n",
              "      <th>2</th>\n",
              "      <td>4979fe9a-0518-41cc-b85f-f364c91053ca</td>\n",
              "      <td>L'esorciccio</td>\n",
              "      <td>Lankester Merrin is a veteran Catholic priest ...</td>\n",
              "      <td>0</td>\n",
              "      <td>1</td>\n",
              "      <td>0</td>\n",
              "      <td>0</td>\n",
              "      <td>0</td>\n",
              "      <td>0</td>\n",
              "      <td>0</td>\n",
              "      <td>0</td>\n",
              "      <td>0</td>\n",
              "    </tr>\n",
              "    <tr>\n",
              "      <th>3</th>\n",
              "      <td>b672850b-a1d9-44ed-9cff-025ee8b61e6f</td>\n",
              "      <td>Serendipity Through Seasons</td>\n",
              "      <td>\"Serendipity Through Seasons\" is a heartwarmin...</td>\n",
              "      <td>0</td>\n",
              "      <td>0</td>\n",
              "      <td>0</td>\n",
              "      <td>0</td>\n",
              "      <td>0</td>\n",
              "      <td>0</td>\n",
              "      <td>1</td>\n",
              "      <td>0</td>\n",
              "      <td>0</td>\n",
              "    </tr>\n",
              "    <tr>\n",
              "      <th>4</th>\n",
              "      <td>b4d8e8cc-a53e-48f8-be6a-6432b928a56d</td>\n",
              "      <td>The Liability</td>\n",
              "      <td>Young and naive 19-year-old slacker, Adam (Jac...</td>\n",
              "      <td>0</td>\n",
              "      <td>0</td>\n",
              "      <td>1</td>\n",
              "      <td>0</td>\n",
              "      <td>0</td>\n",
              "      <td>0</td>\n",
              "      <td>0</td>\n",
              "      <td>0</td>\n",
              "      <td>0</td>\n",
              "    </tr>\n",
              "    <tr>\n",
              "      <th>5</th>\n",
              "      <td>2fbcdf4a-1c10-4958-a175-985d226f5906</td>\n",
              "      <td>Savage Vengance</td>\n",
              "      <td>Katie Carter (Dallender) is an aspiring model ...</td>\n",
              "      <td>0</td>\n",
              "      <td>0</td>\n",
              "      <td>0</td>\n",
              "      <td>0</td>\n",
              "      <td>1</td>\n",
              "      <td>0</td>\n",
              "      <td>0</td>\n",
              "      <td>0</td>\n",
              "      <td>0</td>\n",
              "    </tr>\n",
              "    <tr>\n",
              "      <th>6</th>\n",
              "      <td>60298c01-41d0-4e12-a203-b5a1feb78943</td>\n",
              "      <td>The Snake Pit</td>\n",
              "      <td>Virginia Cunningham (Olivia de Havilland) is a...</td>\n",
              "      <td>0</td>\n",
              "      <td>0</td>\n",
              "      <td>1</td>\n",
              "      <td>0</td>\n",
              "      <td>0</td>\n",
              "      <td>0</td>\n",
              "      <td>0</td>\n",
              "      <td>0</td>\n",
              "      <td>0</td>\n",
              "    </tr>\n",
              "    <tr>\n",
              "      <th>7</th>\n",
              "      <td>084f6cc3-e4e2-4f1a-bcbb-b26dbdd2762f</td>\n",
              "      <td>Shadows of Betrayal</td>\n",
              "      <td>In the dark and gritty underbelly of a sprawli...</td>\n",
              "      <td>0</td>\n",
              "      <td>0</td>\n",
              "      <td>0</td>\n",
              "      <td>0</td>\n",
              "      <td>1</td>\n",
              "      <td>0</td>\n",
              "      <td>0</td>\n",
              "      <td>0</td>\n",
              "      <td>1</td>\n",
              "    </tr>\n",
              "    <tr>\n",
              "      <th>8</th>\n",
              "      <td>a198118a-564e-42f8-8df2-0cbec828aa2f</td>\n",
              "      <td>Kakushi ken oni no tsume</td>\n",
              "      <td>The film takes place in Japan in the 1860s, a ...</td>\n",
              "      <td>0</td>\n",
              "      <td>0</td>\n",
              "      <td>0</td>\n",
              "      <td>0</td>\n",
              "      <td>1</td>\n",
              "      <td>1</td>\n",
              "      <td>0</td>\n",
              "      <td>0</td>\n",
              "      <td>0</td>\n",
              "    </tr>\n",
              "    <tr>\n",
              "      <th>9</th>\n",
              "      <td>541bbc68-5628-43a3-9f83-49c7900c2e57</td>\n",
              "      <td>Intolerable Cruelty</td>\n",
              "      <td>Donovan Donaly (Geoffrey Rush) a TV soap opera...</td>\n",
              "      <td>1</td>\n",
              "      <td>0</td>\n",
              "      <td>0</td>\n",
              "      <td>0</td>\n",
              "      <td>0</td>\n",
              "      <td>1</td>\n",
              "      <td>1</td>\n",
              "      <td>0</td>\n",
              "      <td>0</td>\n",
              "    </tr>\n",
              "  </tbody>\n",
              "</table>\n",
              "</div>"
            ],
            "text/plain": [
              "                                     ID                        title  \\\n",
              "0  8f5203de-b2f8-4c0c-b0c1-835ba92422e9                   Si wang ta   \n",
              "1  6416fe15-6f8a-41d4-8a78-3e8f120781c7          Shattered Vengeance   \n",
              "2  4979fe9a-0518-41cc-b85f-f364c91053ca                 L'esorciccio   \n",
              "3  b672850b-a1d9-44ed-9cff-025ee8b61e6f  Serendipity Through Seasons   \n",
              "4  b4d8e8cc-a53e-48f8-be6a-6432b928a56d                The Liability   \n",
              "5  2fbcdf4a-1c10-4958-a175-985d226f5906              Savage Vengance   \n",
              "6  60298c01-41d0-4e12-a203-b5a1feb78943                The Snake Pit   \n",
              "7  084f6cc3-e4e2-4f1a-bcbb-b26dbdd2762f          Shadows of Betrayal   \n",
              "8  a198118a-564e-42f8-8df2-0cbec828aa2f     Kakushi ken oni no tsume   \n",
              "9  541bbc68-5628-43a3-9f83-49c7900c2e57          Intolerable Cruelty   \n",
              "\n",
              "                                       plot_synopsis  comedy  cult  flashback  \\\n",
              "0  After a recent amount of challenges, Billy Lo ...       0     0          0   \n",
              "1  In the crime-ridden city of Tremont, renowned ...       0     0          0   \n",
              "2  Lankester Merrin is a veteran Catholic priest ...       0     1          0   \n",
              "3  \"Serendipity Through Seasons\" is a heartwarmin...       0     0          0   \n",
              "4  Young and naive 19-year-old slacker, Adam (Jac...       0     0          1   \n",
              "5  Katie Carter (Dallender) is an aspiring model ...       0     0          0   \n",
              "6  Virginia Cunningham (Olivia de Havilland) is a...       0     0          1   \n",
              "7  In the dark and gritty underbelly of a sprawli...       0     0          0   \n",
              "8  The film takes place in Japan in the 1860s, a ...       0     0          0   \n",
              "9  Donovan Donaly (Geoffrey Rush) a TV soap opera...       1     0          0   \n",
              "\n",
              "   historical  murder  revenge  romantic  scifi  violence  \n",
              "0           0       1        1         0      0         1  \n",
              "1           0       1        1         1      0         1  \n",
              "2           0       0        0         0      0         0  \n",
              "3           0       0        0         1      0         0  \n",
              "4           0       0        0         0      0         0  \n",
              "5           0       1        0         0      0         0  \n",
              "6           0       0        0         0      0         0  \n",
              "7           0       1        0         0      0         1  \n",
              "8           0       1        1         0      0         0  \n",
              "9           0       0        1         1      0         0  "
            ]
          },
          "execution_count": 3,
          "metadata": {},
          "output_type": "execute_result"
        }
      ],
      "source": [
        "train_data = pd.read_csv(f\"{CWD}/{TRAINING_DATA}\")\n",
        "print(f'Training movie data count: {len(train_data.values)}')\n",
        "\n",
        "train_data.dropna(inplace=True)\n",
        "train_data.reset_index(inplace=True, drop=True)\n",
        "print(f'Training movie data count after NaN check: {len(train_data.values)}')\n",
        "\n",
        "train_data = train_data[train_data[PLOT_SYNOPSIS]\n",
        "                        .apply(lambda synopsis:\n",
        "                               len(synopsis) >= SYNOPSIS_LENGHT_THRESHOLD)]\n",
        "train_data.reset_index(inplace=True, drop=True)\n",
        "print(f'Training movie data count after threshold check: {len(train_data.values)}')\n",
        "\n",
        "train_data.head(10)"
      ]
    },
    {
      "cell_type": "markdown",
      "metadata": {
        "id": "vRUhnFe1g3pJ"
      },
      "source": [
        "## Validation Data"
      ]
    },
    {
      "cell_type": "code",
      "execution_count": 4,
      "metadata": {
        "colab": {
          "base_uri": "https://localhost:8080/",
          "height": 955
        },
        "id": "xfIqnEcS9YAZ",
        "outputId": "f8602853-f42e-4dda-e2c8-e4883e7db350"
      },
      "outputs": [
        {
          "name": "stdout",
          "output_type": "stream",
          "text": [
            "Vaidation movie data count: 1188\n",
            "Validation movie data after NaN check count: 1188\n"
          ]
        },
        {
          "data": {
            "text/html": [
              "<div>\n",
              "<style scoped>\n",
              "    .dataframe tbody tr th:only-of-type {\n",
              "        vertical-align: middle;\n",
              "    }\n",
              "\n",
              "    .dataframe tbody tr th {\n",
              "        vertical-align: top;\n",
              "    }\n",
              "\n",
              "    .dataframe thead th {\n",
              "        text-align: right;\n",
              "    }\n",
              "</style>\n",
              "<table border=\"1\" class=\"dataframe\">\n",
              "  <thead>\n",
              "    <tr style=\"text-align: right;\">\n",
              "      <th></th>\n",
              "      <th>ID</th>\n",
              "      <th>title</th>\n",
              "      <th>plot_synopsis</th>\n",
              "      <th>comedy</th>\n",
              "      <th>cult</th>\n",
              "      <th>flashback</th>\n",
              "      <th>historical</th>\n",
              "      <th>murder</th>\n",
              "      <th>revenge</th>\n",
              "      <th>romantic</th>\n",
              "      <th>scifi</th>\n",
              "      <th>violence</th>\n",
              "    </tr>\n",
              "  </thead>\n",
              "  <tbody>\n",
              "    <tr>\n",
              "      <th>0</th>\n",
              "      <td>cf32cb00-172d-40f2-a3c1-936e8a0d89d7</td>\n",
              "      <td>Shattered Hearts</td>\n",
              "      <td>In the enchanting city of Verona, Italy, renow...</td>\n",
              "      <td>0</td>\n",
              "      <td>0</td>\n",
              "      <td>0</td>\n",
              "      <td>0</td>\n",
              "      <td>1</td>\n",
              "      <td>0</td>\n",
              "      <td>1</td>\n",
              "      <td>0</td>\n",
              "      <td>0</td>\n",
              "    </tr>\n",
              "    <tr>\n",
              "      <th>1</th>\n",
              "      <td>df7e125e-2d59-40e4-a126-9397e3a0ef21</td>\n",
              "      <td>Point Blank</td>\n",
              "      <td>Walker works with his friend Mal Reese to stea...</td>\n",
              "      <td>0</td>\n",
              "      <td>1</td>\n",
              "      <td>1</td>\n",
              "      <td>0</td>\n",
              "      <td>1</td>\n",
              "      <td>1</td>\n",
              "      <td>0</td>\n",
              "      <td>0</td>\n",
              "      <td>1</td>\n",
              "    </tr>\n",
              "    <tr>\n",
              "      <th>2</th>\n",
              "      <td>49bc73f3-9179-41cd-9774-905c7a3ac91b</td>\n",
              "      <td>Le charme discret de la bourgeoisie</td>\n",
              "      <td>The film consists of several thematically link...</td>\n",
              "      <td>1</td>\n",
              "      <td>0</td>\n",
              "      <td>1</td>\n",
              "      <td>0</td>\n",
              "      <td>0</td>\n",
              "      <td>0</td>\n",
              "      <td>0</td>\n",
              "      <td>0</td>\n",
              "      <td>0</td>\n",
              "    </tr>\n",
              "    <tr>\n",
              "      <th>3</th>\n",
              "      <td>0ed4822b-87af-44bc-a677-7f7abfdaccf3</td>\n",
              "      <td>A Gentleman's Dignity</td>\n",
              "      <td>A Gentleman's Dignity is about the careers and...</td>\n",
              "      <td>0</td>\n",
              "      <td>0</td>\n",
              "      <td>0</td>\n",
              "      <td>0</td>\n",
              "      <td>0</td>\n",
              "      <td>0</td>\n",
              "      <td>1</td>\n",
              "      <td>0</td>\n",
              "      <td>0</td>\n",
              "    </tr>\n",
              "    <tr>\n",
              "      <th>4</th>\n",
              "      <td>0b1b0fa4-43bc-41ba-9598-b3401894b96d</td>\n",
              "      <td>Carmen: A Hip Hopera</td>\n",
              "      <td>Carmen Brown (Beyoncé) is a seductive, aspirin...</td>\n",
              "      <td>0</td>\n",
              "      <td>0</td>\n",
              "      <td>0</td>\n",
              "      <td>0</td>\n",
              "      <td>1</td>\n",
              "      <td>0</td>\n",
              "      <td>0</td>\n",
              "      <td>0</td>\n",
              "      <td>0</td>\n",
              "    </tr>\n",
              "    <tr>\n",
              "      <th>5</th>\n",
              "      <td>206f3326-2e4a-4003-b55b-1b8b364d05a2</td>\n",
              "      <td>Vals Im Bashir</td>\n",
              "      <td>In 1982, Ari Folman was a 19-year-old IDF infa...</td>\n",
              "      <td>0</td>\n",
              "      <td>0</td>\n",
              "      <td>1</td>\n",
              "      <td>1</td>\n",
              "      <td>0</td>\n",
              "      <td>0</td>\n",
              "      <td>0</td>\n",
              "      <td>0</td>\n",
              "      <td>0</td>\n",
              "    </tr>\n",
              "    <tr>\n",
              "      <th>6</th>\n",
              "      <td>f4355adb-f934-40eb-a71c-60a5cef42f30</td>\n",
              "      <td>Blitz</td>\n",
              "      <td>The movie begins with Detective Sergeant (DS) ...</td>\n",
              "      <td>0</td>\n",
              "      <td>0</td>\n",
              "      <td>1</td>\n",
              "      <td>0</td>\n",
              "      <td>1</td>\n",
              "      <td>1</td>\n",
              "      <td>0</td>\n",
              "      <td>0</td>\n",
              "      <td>0</td>\n",
              "    </tr>\n",
              "    <tr>\n",
              "      <th>7</th>\n",
              "      <td>5768f628-38bc-44b4-9523-4f1dfbe19ead</td>\n",
              "      <td>Logan's Run</td>\n",
              "      <td>An opening title sets the scene:Sometime in th...</td>\n",
              "      <td>0</td>\n",
              "      <td>1</td>\n",
              "      <td>1</td>\n",
              "      <td>0</td>\n",
              "      <td>1</td>\n",
              "      <td>0</td>\n",
              "      <td>0</td>\n",
              "      <td>1</td>\n",
              "      <td>1</td>\n",
              "    </tr>\n",
              "    <tr>\n",
              "      <th>8</th>\n",
              "      <td>3295f678-a1c6-4a26-9c85-ecd792e6c16b</td>\n",
              "      <td>The Skulls</td>\n",
              "      <td>Luke McNamara (Joshua Jackson) is a student wi...</td>\n",
              "      <td>0</td>\n",
              "      <td>0</td>\n",
              "      <td>1</td>\n",
              "      <td>0</td>\n",
              "      <td>1</td>\n",
              "      <td>0</td>\n",
              "      <td>0</td>\n",
              "      <td>0</td>\n",
              "      <td>0</td>\n",
              "    </tr>\n",
              "    <tr>\n",
              "      <th>9</th>\n",
              "      <td>5c99d135-cd86-4e38-9d52-2924c50548ed</td>\n",
              "      <td>Flawless</td>\n",
              "      <td>The 1999 film features De Niro as Walter Koont...</td>\n",
              "      <td>0</td>\n",
              "      <td>0</td>\n",
              "      <td>0</td>\n",
              "      <td>0</td>\n",
              "      <td>1</td>\n",
              "      <td>0</td>\n",
              "      <td>1</td>\n",
              "      <td>0</td>\n",
              "      <td>1</td>\n",
              "    </tr>\n",
              "  </tbody>\n",
              "</table>\n",
              "</div>"
            ],
            "text/plain": [
              "                                     ID                                title  \\\n",
              "0  cf32cb00-172d-40f2-a3c1-936e8a0d89d7                     Shattered Hearts   \n",
              "1  df7e125e-2d59-40e4-a126-9397e3a0ef21                          Point Blank   \n",
              "2  49bc73f3-9179-41cd-9774-905c7a3ac91b  Le charme discret de la bourgeoisie   \n",
              "3  0ed4822b-87af-44bc-a677-7f7abfdaccf3                A Gentleman's Dignity   \n",
              "4  0b1b0fa4-43bc-41ba-9598-b3401894b96d                 Carmen: A Hip Hopera   \n",
              "5  206f3326-2e4a-4003-b55b-1b8b364d05a2                       Vals Im Bashir   \n",
              "6  f4355adb-f934-40eb-a71c-60a5cef42f30                                Blitz   \n",
              "7  5768f628-38bc-44b4-9523-4f1dfbe19ead                          Logan's Run   \n",
              "8  3295f678-a1c6-4a26-9c85-ecd792e6c16b                           The Skulls   \n",
              "9  5c99d135-cd86-4e38-9d52-2924c50548ed                             Flawless   \n",
              "\n",
              "                                       plot_synopsis  comedy  cult  flashback  \\\n",
              "0  In the enchanting city of Verona, Italy, renow...       0     0          0   \n",
              "1  Walker works with his friend Mal Reese to stea...       0     1          1   \n",
              "2  The film consists of several thematically link...       1     0          1   \n",
              "3  A Gentleman's Dignity is about the careers and...       0     0          0   \n",
              "4  Carmen Brown (Beyoncé) is a seductive, aspirin...       0     0          0   \n",
              "5  In 1982, Ari Folman was a 19-year-old IDF infa...       0     0          1   \n",
              "6  The movie begins with Detective Sergeant (DS) ...       0     0          1   \n",
              "7  An opening title sets the scene:Sometime in th...       0     1          1   \n",
              "8  Luke McNamara (Joshua Jackson) is a student wi...       0     0          1   \n",
              "9  The 1999 film features De Niro as Walter Koont...       0     0          0   \n",
              "\n",
              "   historical  murder  revenge  romantic  scifi  violence  \n",
              "0           0       1        0         1      0         0  \n",
              "1           0       1        1         0      0         1  \n",
              "2           0       0        0         0      0         0  \n",
              "3           0       0        0         1      0         0  \n",
              "4           0       1        0         0      0         0  \n",
              "5           1       0        0         0      0         0  \n",
              "6           0       1        1         0      0         0  \n",
              "7           0       1        0         0      1         1  \n",
              "8           0       1        0         0      0         0  \n",
              "9           0       1        0         1      0         1  "
            ]
          },
          "execution_count": 4,
          "metadata": {},
          "output_type": "execute_result"
        }
      ],
      "source": [
        "val_data = pd.read_csv(f\"{CWD}/{VALIDATION_DATA}\")\n",
        "print(f'Vaidation movie data count: {len(val_data.values)}')\n",
        "\n",
        "val_data.dropna(inplace=True)\n",
        "val_data.reset_index(inplace=True, drop=True)\n",
        "print(f'Validation movie data after NaN check count: {len(val_data.values)}')\n",
        "\n",
        "val_data.head(10)"
      ]
    },
    {
      "cell_type": "markdown",
      "metadata": {
        "id": "kWp6cyPjg5f7"
      },
      "source": [
        "## Test Data"
      ]
    },
    {
      "cell_type": "code",
      "execution_count": 5,
      "metadata": {
        "colab": {
          "base_uri": "https://localhost:8080/",
          "height": 571
        },
        "id": "hK7ihbQtDGak",
        "outputId": "734d9a7b-9bf2-40e7-f75c-3709d58f842c"
      },
      "outputs": [
        {
          "name": "stdout",
          "output_type": "stream",
          "text": [
            "Test movie data count: 1200\n",
            "Test movie data after NaN check count: 1200\n"
          ]
        },
        {
          "data": {
            "text/html": [
              "<div>\n",
              "<style scoped>\n",
              "    .dataframe tbody tr th:only-of-type {\n",
              "        vertical-align: middle;\n",
              "    }\n",
              "\n",
              "    .dataframe tbody tr th {\n",
              "        vertical-align: top;\n",
              "    }\n",
              "\n",
              "    .dataframe thead th {\n",
              "        text-align: right;\n",
              "    }\n",
              "</style>\n",
              "<table border=\"1\" class=\"dataframe\">\n",
              "  <thead>\n",
              "    <tr style=\"text-align: right;\">\n",
              "      <th></th>\n",
              "      <th>ID</th>\n",
              "      <th>title</th>\n",
              "      <th>plot_synopsis</th>\n",
              "    </tr>\n",
              "  </thead>\n",
              "  <tbody>\n",
              "    <tr>\n",
              "      <th>0</th>\n",
              "      <td>9484ac61-0e30-4799-9998-6f74f4cbb204</td>\n",
              "      <td>Standoff</td>\n",
              "      <td>A young girl, Bird with her aunt's boyfriend w...</td>\n",
              "    </tr>\n",
              "    <tr>\n",
              "      <th>1</th>\n",
              "      <td>55942d28-b6a2-4662-ab55-a66783a86a56</td>\n",
              "      <td>On Our Merry Way</td>\n",
              "      <td>Oliver Pease (Burgess Meredith) has deceived h...</td>\n",
              "    </tr>\n",
              "    <tr>\n",
              "      <th>2</th>\n",
              "      <td>b71ed317-04cd-42f5-a380-d21dfea2bd36</td>\n",
              "      <td>My Life Without Me</td>\n",
              "      <td>Ann (Sarah Polley) is a hard-working 23-year-o...</td>\n",
              "    </tr>\n",
              "    <tr>\n",
              "      <th>3</th>\n",
              "      <td>5689b1b2-88cd-4c22-9114-0850ba539280</td>\n",
              "      <td>Ben &amp; Arthur</td>\n",
              "      <td>Ben (Jamie Brett Gabel) and Arthur (Sam Mraovi...</td>\n",
              "    </tr>\n",
              "    <tr>\n",
              "      <th>4</th>\n",
              "      <td>a0d9062e-f539-4043-bc9e-2a2ed589477b</td>\n",
              "      <td>Where the Sidewalk Ends</td>\n",
              "      <td>New York City 16th Precinct Police Detective D...</td>\n",
              "    </tr>\n",
              "    <tr>\n",
              "      <th>5</th>\n",
              "      <td>79da254c-b13a-4f82-8a0a-732c4d1bca5f</td>\n",
              "      <td>Estratto dagli archivi segreti della polizia d...</td>\n",
              "      <td>After a day of sailing, a group of hippies—Jan...</td>\n",
              "    </tr>\n",
              "    <tr>\n",
              "      <th>6</th>\n",
              "      <td>9787f4bc-96d4-4f9a-9fed-753434d23d6e</td>\n",
              "      <td>The Honeymoon Killers</td>\n",
              "      <td>The film opens by introducing Martha Beck (Shi...</td>\n",
              "    </tr>\n",
              "    <tr>\n",
              "      <th>7</th>\n",
              "      <td>4209b506-2b47-4430-a5f8-04c9218d5728</td>\n",
              "      <td>Quick Change</td>\n",
              "      <td>Grimm, dressed as a clown, robs a bank in midt...</td>\n",
              "    </tr>\n",
              "    <tr>\n",
              "      <th>8</th>\n",
              "      <td>bb4f8bc5-6058-45a7-baa3-5c6b7bc6d386</td>\n",
              "      <td>Halo: The Fall of Reach</td>\n",
              "      <td>=== Setting and characters ===\\nThe Fall of Re...</td>\n",
              "    </tr>\n",
              "    <tr>\n",
              "      <th>9</th>\n",
              "      <td>10185a2f-dac9-4db7-8430-45f43dfdf8f0</td>\n",
              "      <td>Jab Tak Hai Jaan</td>\n",
              "      <td>Samar Anand (Shahrukh Khan), a major in the In...</td>\n",
              "    </tr>\n",
              "  </tbody>\n",
              "</table>\n",
              "</div>"
            ],
            "text/plain": [
              "                                     ID  \\\n",
              "0  9484ac61-0e30-4799-9998-6f74f4cbb204   \n",
              "1  55942d28-b6a2-4662-ab55-a66783a86a56   \n",
              "2  b71ed317-04cd-42f5-a380-d21dfea2bd36   \n",
              "3  5689b1b2-88cd-4c22-9114-0850ba539280   \n",
              "4  a0d9062e-f539-4043-bc9e-2a2ed589477b   \n",
              "5  79da254c-b13a-4f82-8a0a-732c4d1bca5f   \n",
              "6  9787f4bc-96d4-4f9a-9fed-753434d23d6e   \n",
              "7  4209b506-2b47-4430-a5f8-04c9218d5728   \n",
              "8  bb4f8bc5-6058-45a7-baa3-5c6b7bc6d386   \n",
              "9  10185a2f-dac9-4db7-8430-45f43dfdf8f0   \n",
              "\n",
              "                                               title  \\\n",
              "0                                           Standoff   \n",
              "1                                   On Our Merry Way   \n",
              "2                                 My Life Without Me   \n",
              "3                                       Ben & Arthur   \n",
              "4                            Where the Sidewalk Ends   \n",
              "5  Estratto dagli archivi segreti della polizia d...   \n",
              "6                              The Honeymoon Killers   \n",
              "7                                       Quick Change   \n",
              "8                            Halo: The Fall of Reach   \n",
              "9                                   Jab Tak Hai Jaan   \n",
              "\n",
              "                                       plot_synopsis  \n",
              "0  A young girl, Bird with her aunt's boyfriend w...  \n",
              "1  Oliver Pease (Burgess Meredith) has deceived h...  \n",
              "2  Ann (Sarah Polley) is a hard-working 23-year-o...  \n",
              "3  Ben (Jamie Brett Gabel) and Arthur (Sam Mraovi...  \n",
              "4  New York City 16th Precinct Police Detective D...  \n",
              "5  After a day of sailing, a group of hippies—Jan...  \n",
              "6  The film opens by introducing Martha Beck (Shi...  \n",
              "7  Grimm, dressed as a clown, robs a bank in midt...  \n",
              "8  === Setting and characters ===\\nThe Fall of Re...  \n",
              "9  Samar Anand (Shahrukh Khan), a major in the In...  "
            ]
          },
          "execution_count": 5,
          "metadata": {},
          "output_type": "execute_result"
        }
      ],
      "source": [
        "test_data = pd.read_csv(f\"{CWD}/{TEST_DATA}\")\n",
        "print(f'Test movie data count: {len(test_data.values)}')\n",
        "\n",
        "test_data.dropna(inplace=True)\n",
        "test_data.reset_index(inplace=True, drop=True)\n",
        "print(f'Test movie data after NaN check count: {len(test_data.values)}')\n",
        "\n",
        "test_data.head(10)"
      ]
    },
    {
      "cell_type": "markdown",
      "metadata": {
        "id": "X23SKqAwg61T"
      },
      "source": [
        "## Extract relevant data\n",
        "\n",
        "\n"
      ]
    },
    {
      "cell_type": "code",
      "execution_count": 6,
      "metadata": {
        "id": "s_C8FjQu-BsP"
      },
      "outputs": [],
      "source": [
        "# Prepare training, validation and testing data\n",
        "X_train = train_data[PLOT_SYNOPSIS]\n",
        "y_train = train_data[TAGS]\n",
        "\n",
        "X_val = val_data[PLOT_SYNOPSIS]\n",
        "y_val = val_data[TAGS]\n",
        "\n",
        "X_test = test_data[PLOT_SYNOPSIS]"
      ]
    },
    {
      "cell_type": "markdown",
      "metadata": {
        "id": "92O3VCKVhLt7"
      },
      "source": [
        "## Helper Functions"
      ]
    },
    {
      "cell_type": "code",
      "execution_count": 7,
      "metadata": {
        "id": "uBlzroBl5lTl"
      },
      "outputs": [],
      "source": [
        "def get_vectorization_layer(texts):\n",
        "  \"\"\"\n",
        "  Create an input vectorization layer based on the tokens given in texts.\n",
        "  It maps tokens to indices to a maximum feature count.\n",
        "\n",
        "  Parameters\n",
        "  ----------\n",
        "  texts : pandas.Series of str\n",
        "      Series of strings containing all documents which will be used to\n",
        "      create a mapping from token to index.\n",
        "\n",
        "  Returns\n",
        "  -------\n",
        "  keras.layers.TextVectorization\n",
        "      A TextVectorization object that maps tokens to indices.\n",
        "  \"\"\"\n",
        "  vectorization_layer = TextVectorization(\n",
        "    max_tokens=MAXIMUM_FEATURE_COUNT,\n",
        "    output_mode=OUTPUT_MODE,\n",
        "    output_sequence_length=MAXIMUM_SEQUENCE_LENGTH)\n",
        "\n",
        "  vectorization_layer.adapt(texts)\n",
        "  return vectorization_layer"
      ]
    },
    {
      "cell_type": "code",
      "execution_count": 8,
      "metadata": {
        "id": "yffljSBs4Hc9"
      },
      "outputs": [],
      "source": [
        "def get_embedding_dictionary():\n",
        "  \"\"\"\n",
        "  Create an embedding dictionary from a given pre-trained embedding.\n",
        "\n",
        "  Returns\n",
        "  -------\n",
        "  dict of str to np.ndarray\n",
        "      A mapping for words to their pre-trained embeddings.\n",
        "  \"\"\"\n",
        "  embeddings_dictionary = dict()\n",
        "  # Embeddings can be found here https://nlp.stanford.edu/projects/glove/ under\n",
        "  # the glove.6B embeddings\n",
        "  glove_file = open(f\"{CWD}/glove.6B.300d.txt\", encoding=\"utf8\")\n",
        "  for line in glove_file:\n",
        "      records = line.split()\n",
        "      word = records[0]\n",
        "      vector_dimensions = np.asarray(records[1:], dtype='float32')\n",
        "      embeddings_dictionary[word] = vector_dimensions\n",
        "  glove_file.close()\n",
        "  return embeddings_dictionary\n",
        "\n",
        "\n",
        "def get_embedding_matrix(text_vectorizer):\n",
        "  \"\"\"\n",
        "  Create an embedding matrix using a vectorisation layer and an embedding\n",
        "  dictionary. This is done by extracting the necessary tokens from the\n",
        "  vectorisation layer and then adding their embedding mappings to the matrix.\n",
        "\n",
        "  Parameters\n",
        "  ----------\n",
        "  text_vectorizer : keras.layers.TextVectorization\n",
        "      A text vectorizer that contains information about which tokens map\n",
        "      to which indices and the vocabulary of the system.\n",
        "\n",
        "  Returns\n",
        "  -------\n",
        "  numpy.ndarray\n",
        "      A TextVectorization object that maps tokens to indices.\n",
        "  \"\"\"\n",
        "  embeddings_dictionary = get_embedding_dictionary()\n",
        "  num_words = min(MAXIMUM_FEATURE_COUNT, len(text_vectorizer.get_vocabulary()) + 1)\n",
        "  embedding_matrix = np.zeros((num_words, EMBEDDING_SIZE))\n",
        "\n",
        "  for idx, word in enumerate(text_vectorizer.get_vocabulary()):\n",
        "    if idx >= MAXIMUM_FEATURE_COUNT:\n",
        "        break\n",
        "    embedding_vector = np.zeros(EMBEDDING_SIZE)\n",
        "    try:\n",
        "      embedding_vector = embeddings_dictionary[word]\n",
        "    except:\n",
        "      a = 0\n",
        "      # print(f'{word} is missing! Using zeroes')\n",
        "    if embedding_vector is not None:\n",
        "        embedding_matrix[idx] = embedding_vector\n",
        "\n",
        "  return embedding_matrix"
      ]
    },
    {
      "cell_type": "markdown",
      "metadata": {
        "id": "5n4fBWDThcso"
      },
      "source": [
        "# 3. Implement Methods"
      ]
    },
    {
      "cell_type": "markdown",
      "metadata": {
        "id": "7lYBb4CWhXz4"
      },
      "source": [
        "## METHOD a) Traditional Classification Method\n",
        "### SVM (Support Vector Machine with a Linear Kernel and Term Frequency Inverse Document Frequency)"
      ]
    },
    {
      "cell_type": "markdown",
      "metadata": {
        "id": "Sluapkwzj78G"
      },
      "source": [
        "### Define Model Architecture"
      ]
    },
    {
      "cell_type": "code",
      "execution_count": 9,
      "metadata": {
        "id": "JhpETg05j-7p"
      },
      "outputs": [],
      "source": [
        "svm = Pipeline([\n",
        "    ('tfidf', TfidfVectorizer(input='content',\n",
        "                              encoding='utf-8',\n",
        "                              decode_error='strict',\n",
        "                              strip_accents=None,\n",
        "                              lowercase=True,\n",
        "                              preprocessor=None,\n",
        "                              tokenizer=None,\n",
        "                              analyzer='word',\n",
        "                              stop_words=None,\n",
        "                              token_pattern=r\"(?u)\\b\\w\\w+\\b\",\n",
        "                              ngram_range=(1, 1),\n",
        "                              max_df=1.0,\n",
        "                              min_df=1,\n",
        "                              max_features=80000,\n",
        "                              vocabulary=None,\n",
        "                              binary=False,\n",
        "                              norm='l2',\n",
        "                              use_idf=True,\n",
        "                              smooth_idf=True,\n",
        "                              sublinear_tf=False\n",
        "                              )),\n",
        "    ('clf', OneVsRestClassifier(LinearSVC(penalty='l2',\n",
        "                                          loss='hinge',\n",
        "                                          dual=True,\n",
        "                                          tol=1e-4,\n",
        "                                          C=1.0,\n",
        "                                          multi_class='ovr',\n",
        "                                          fit_intercept=True,\n",
        "                                          intercept_scaling=1.0,\n",
        "                                          class_weight='balanced',\n",
        "                                          verbose=0,\n",
        "                                          random_state=None,\n",
        "                                          max_iter=1000))),\n",
        "])"
      ]
    },
    {
      "cell_type": "markdown",
      "metadata": {
        "id": "jBcPQC3hkBFc"
      },
      "source": [
        "### Train and Run Model"
      ]
    },
    {
      "cell_type": "code",
      "execution_count": null,
      "metadata": {
        "colab": {
          "base_uri": "https://localhost:8080/"
        },
        "id": "qI-shqjiblq9",
        "outputId": "a7e0f20b-c163-47b6-92e0-9fbe6b2dbcc1"
      },
      "outputs": [],
      "source": [
        "results_val = [val_data[ID]]\n",
        "results_test = [test_data[ID]]\n",
        "\n",
        "train_times = []\n",
        "val_predict_times = []\n",
        "test_predict_times = []\n",
        "\n",
        "print('Training on classes...')\n",
        "for tag in tqdm(TAGS):\n",
        "\n",
        "    start_train = time()\n",
        "    svm.fit(X_train, y_train[tag])\n",
        "    end_train = time()\n",
        "    train_times.append(end_train - start_train)\n",
        "\n",
        "    # Make a prediction for the validation data\n",
        "    start_val = time()\n",
        "    result_val = svm.predict(X_val)\n",
        "    end_val = time()\n",
        "    results_val.append(pd.Series(result_val))\n",
        "    val_predict_times.append(end_val - start_val)\n",
        "\n",
        "    # Make a prediction for the test data\n",
        "    start_test = time()\n",
        "    result_test = svm.predict(X_test)\n",
        "    end_test = time()\n",
        "    results_test.append(pd.Series(result_test))\n",
        "    test_predict_times.append(end_test - start_test)\n",
        "\n",
        "predictions_val = pd.concat(results_val, axis=1)\n",
        "predictions_val.columns = [ID, *INDEX_TAGS]\n",
        "\n",
        "predictions_test = pd.concat(results_test, axis=1)\n",
        "predictions_test.columns = [ID, *INDEX_TAGS]\n",
        "\n",
        "\n",
        "train_time = sum(train_times)\n",
        "val_time = sum(val_predict_times)\n",
        "test_time = sum(test_predict_times)\n",
        "\n",
        "# Calculate elapsed time\n",
        "print(\"\")\n",
        "elapsed_time = str(timedelta(seconds=train_time))\n",
        "print(f\"Training Time: {str(elapsed_time)[elapsed_time.find(':') + 1:]}\")\n",
        "elapsed_time = str(timedelta(seconds=val_time))\n",
        "print(f\"Validation Time: {str(elapsed_time)[elapsed_time.find(':') + 1:]}\")\n",
        "elapsed_time = str(timedelta(seconds=test_time))\n",
        "print(f\"Testing Time: {str(elapsed_time)[elapsed_time.find(':') + 1:]}\")"
      ]
    },
    {
      "cell_type": "markdown",
      "metadata": {
        "id": "aWNYAKyvke3o"
      },
      "source": [
        "### Save Results"
      ]
    },
    {
      "cell_type": "code",
      "execution_count": 11,
      "metadata": {
        "id": "oK_w-ok6ahRR"
      },
      "outputs": [],
      "source": [
        "predictions_val.to_csv('svm_predictions_validation.csv', header=None, index=False, encoding=\"utf8\")"
      ]
    },
    {
      "cell_type": "code",
      "execution_count": 12,
      "metadata": {
        "id": "RBTLRdLSA9gP"
      },
      "outputs": [],
      "source": [
        "predictions_test.to_csv('svm_predictions_test.csv', header=None, index=False)"
      ]
    },
    {
      "cell_type": "code",
      "execution_count": null,
      "metadata": {
        "colab": {
          "base_uri": "https://localhost:8080/"
        },
        "id": "BGhOqwFhZeRq",
        "outputId": "f2fb9880-232d-4f83-9bb4-5b41971e6e23"
      },
      "outputs": [],
      "source": [
        "!python3 scripts/genres_similarity_eval_script.py svm_predictions_validation.csv data/Validation-dataset-genres.csv"
      ]
    },
    {
      "cell_type": "markdown",
      "metadata": {
        "id": "JRxIXgD9iSd5"
      },
      "source": [
        "## METHOD B) Traditional Deep Learning Method\n",
        "### Bi-LSTM (Bidirectional Long-Short Term Memory Neural Network)"
      ]
    },
    {
      "cell_type": "markdown",
      "metadata": {
        "id": "QACsvZ6kjWB0"
      },
      "source": [
        "### Prepare Data"
      ]
    },
    {
      "cell_type": "code",
      "execution_count": 14,
      "metadata": {
        "id": "dbZZZLuEC01_"
      },
      "outputs": [],
      "source": [
        "all_texts = []\n",
        "for texts in [X_train.values, X_val.values, X_test.values]:\n",
        "  all_texts.extend(texts)"
      ]
    },
    {
      "cell_type": "markdown",
      "metadata": {
        "id": "RbvMWcTcmKs7"
      },
      "source": [
        "### Create Input Layers"
      ]
    },
    {
      "cell_type": "markdown",
      "metadata": {
        "id": "yz9idzX1jcGM"
      },
      "source": [
        "Create vectorization layer"
      ]
    },
    {
      "cell_type": "code",
      "execution_count": null,
      "metadata": {
        "id": "awFhzhA9jk2C"
      },
      "outputs": [],
      "source": [
        "VECTORIZATION_LAYER = get_vectorization_layer(all_texts)"
      ]
    },
    {
      "cell_type": "markdown",
      "metadata": {
        "id": "o8tYFpiUjhPF"
      },
      "source": [
        "Create embedding layer"
      ]
    },
    {
      "cell_type": "code",
      "execution_count": null,
      "metadata": {
        "id": "lMhNpRBPjm_o"
      },
      "outputs": [],
      "source": [
        "EMBEDDING_MATRIX = get_embedding_matrix(VECTORIZATION_LAYER)"
      ]
    },
    {
      "cell_type": "markdown",
      "metadata": {
        "id": "o4gh91iAjoxl"
      },
      "source": [
        "### Define Model Architecture"
      ]
    },
    {
      "cell_type": "markdown",
      "metadata": {
        "id": "VHXDnAHxnWPH"
      },
      "source": [
        "Design neural network architecture"
      ]
    },
    {
      "cell_type": "code",
      "execution_count": null,
      "metadata": {
        "id": "yMjSQwTDGldX"
      },
      "outputs": [],
      "source": [
        "# Create model\n",
        "model = Sequential()\n",
        "\n",
        "model.add(VECTORIZATION_LAYER)\n",
        "\n",
        "# Embedding Layer\n",
        "model.add(Embedding(MAXIMUM_FEATURE_COUNT,\n",
        "                    EMBEDDING_SIZE,\n",
        "                    weights=[EMBEDDING_MATRIX],\n",
        "                    trainable = False))\n",
        "\n",
        "# Bidirectional LSTM Layer\n",
        "model.add(Bidirectional(LSTM(MAXIMUM_SEQUENCE_LENGTH,\n",
        "                             activation='tanh')))\n",
        "\n",
        "# Dense connected layers\n",
        "model.add(Dense(128, activation='relu'))\n",
        "model.add(Dense(256, activation='relu'))\n",
        "model.add(Dense(128, activation='relu'))\n",
        "\n",
        "# Final layer\n",
        "model.add(Dense(9, activation='sigmoid'))"
      ]
    },
    {
      "cell_type": "markdown",
      "metadata": {
        "id": "MGQRJlD2naHk"
      },
      "source": [
        "Compile model"
      ]
    },
    {
      "cell_type": "code",
      "execution_count": null,
      "metadata": {
        "colab": {
          "base_uri": "https://localhost:8080/"
        },
        "id": "ZWKxJqhCmu7Z",
        "outputId": "d4778565-8a0b-4e33-9955-d53abd6d0c46"
      },
      "outputs": [
        {
          "name": "stdout",
          "output_type": "stream",
          "text": [
            "Model: \"sequential_10\"\n",
            "_________________________________________________________________\n",
            " Layer (type)                Output Shape              Param #   \n",
            "=================================================================\n",
            " text_vectorization_6 (Text  (None, 256)               0         \n",
            " Vectorization)                                                  \n",
            "                                                                 \n",
            " embedding_10 (Embedding)    (None, 256, 300)          27000000  \n",
            "                                                                 \n",
            " bidirectional_10 (Bidirect  (None, 512)               1140736   \n",
            " ional)                                                          \n",
            "                                                                 \n",
            " dense_40 (Dense)            (None, 128)               65664     \n",
            "                                                                 \n",
            " dense_41 (Dense)            (None, 256)               33024     \n",
            "                                                                 \n",
            " dense_42 (Dense)            (None, 128)               32896     \n",
            "                                                                 \n",
            " dense_43 (Dense)            (None, 9)                 1161      \n",
            "                                                                 \n",
            "=================================================================\n",
            "Total params: 28273481 (107.85 MB)\n",
            "Trainable params: 1273481 (4.86 MB)\n",
            "Non-trainable params: 27000000 (103.00 MB)\n",
            "_________________________________________________________________\n",
            "None\n"
          ]
        }
      ],
      "source": [
        "model.compile(\n",
        "    loss='BinaryCrossentropy',\n",
        "    optimizer='Adam',\n",
        "    metrics=['accuracy'])\n",
        "print(model.summary())"
      ]
    },
    {
      "cell_type": "markdown",
      "metadata": {
        "id": "nSns7i1BnyUV"
      },
      "source": [
        "### Run model"
      ]
    },
    {
      "cell_type": "markdown",
      "metadata": {
        "id": "d-wYAG1knbKZ"
      },
      "source": [
        "Train model"
      ]
    },
    {
      "cell_type": "code",
      "execution_count": null,
      "metadata": {
        "colab": {
          "base_uri": "https://localhost:8080/"
        },
        "id": "u7xNut_1myrR",
        "outputId": "d49105ea-fec4-4135-df24-e926b1844848"
      },
      "outputs": [
        {
          "name": "stdout",
          "output_type": "stream",
          "text": [
            "Epoch 1/8\n",
            "205/205 [==============================] - 14s 46ms/step - loss: 0.4656 - accuracy: 0.2444 - val_loss: 0.4627 - val_accuracy: 0.2643\n",
            "Epoch 2/8\n",
            "205/205 [==============================] - 9s 42ms/step - loss: 0.4500 - accuracy: 0.2620 - val_loss: 0.4425 - val_accuracy: 0.2900\n",
            "Epoch 3/8\n",
            "205/205 [==============================] - 9s 42ms/step - loss: 0.4276 - accuracy: 0.2884 - val_loss: 0.4234 - val_accuracy: 0.3010\n",
            "Epoch 4/8\n",
            "205/205 [==============================] - 9s 42ms/step - loss: 0.4040 - accuracy: 0.3195 - val_loss: 0.4248 - val_accuracy: 0.2686\n",
            "Epoch 5/8\n",
            "205/205 [==============================] - 9s 43ms/step - loss: 0.3799 - accuracy: 0.3623 - val_loss: 0.4214 - val_accuracy: 0.3193\n",
            "Epoch 6/8\n",
            "205/205 [==============================] - 9s 43ms/step - loss: 0.3431 - accuracy: 0.4144 - val_loss: 0.4321 - val_accuracy: 0.3132\n",
            "Epoch 7/8\n",
            "205/205 [==============================] - 9s 43ms/step - loss: 0.2935 - accuracy: 0.4731 - val_loss: 0.4917 - val_accuracy: 0.3120\n",
            "Epoch 8/8\n",
            "205/205 [==============================] - 9s 43ms/step - loss: 0.2344 - accuracy: 0.5467 - val_loss: 0.5457 - val_accuracy: 0.3040\n",
            "Elapsed Time: 01:14.750939\n"
          ]
        }
      ],
      "source": [
        "start_time = time()\n",
        "\n",
        "history = model.fit(X_train, y_train.values, epochs=8,\n",
        "                    verbose=1, validation_split=0.2)\n",
        "\n",
        "end_time = time()\n",
        "\n",
        "# Calculate elapsed time\n",
        "elapsed_time = str(timedelta(seconds=end_time - start_time))\n",
        "print(f\"Elapsed Time: {str(elapsed_time)[elapsed_time.find(':') + 1:]}\")"
      ]
    },
    {
      "cell_type": "markdown",
      "metadata": {
        "id": "3NUpWythnctK"
      },
      "source": [
        "Make predictions"
      ]
    },
    {
      "cell_type": "code",
      "execution_count": null,
      "metadata": {
        "colab": {
          "base_uri": "https://localhost:8080/"
        },
        "id": "wULBzNJsmvWV",
        "outputId": "32d99634-fe52-40a4-f90c-532eea2a721c"
      },
      "outputs": [
        {
          "name": "stdout",
          "output_type": "stream",
          "text": [
            "38/38 [==============================] - 1s 21ms/step\n",
            "Validation Time: 00:00.907010\n",
            "38/38 [==============================] - 1s 17ms/step\n",
            "Test Time: 00:00.721177\n"
          ]
        }
      ],
      "source": [
        "doc_ids = val_data['ID']\n",
        "\n",
        "start_time = time()\n",
        "\n",
        "predicted_values_val = (model.predict(X_val))\n",
        "predicted_classes_val = pd.DataFrame((predicted_values_val > 0.5).astype(int))\n",
        "predictions_val = pd.concat([doc_ids, predicted_classes_val], axis=1)\n",
        "\n",
        "end_time = time()\n",
        "\n",
        "# Calculate elapsed time\n",
        "elapsed_time = str(timedelta(seconds=end_time - start_time))\n",
        "print(f\"Validation Time: {str(elapsed_time)[elapsed_time.find(':') + 1:]}\")\n",
        "\n",
        "doc_ids = test_data['ID']\n",
        "\n",
        "start_time = time()\n",
        "\n",
        "predicted_values_test = (model.predict(X_test))\n",
        "predicted_classes_test = pd.DataFrame((predicted_values_test > 0.5).astype(int))\n",
        "predictions_test = pd.concat([doc_ids, predicted_classes_test], axis=1)\n",
        "\n",
        "\n",
        "end_time = time()\n",
        "\n",
        "# Calculate elapsed time\n",
        "elapsed_time = str(timedelta(seconds=end_time - start_time))\n",
        "print(f\"Test Time: {str(elapsed_time)[elapsed_time.find(':') + 1:]}\")"
      ]
    },
    {
      "cell_type": "markdown",
      "metadata": {
        "id": "D30CmpUzneg1"
      },
      "source": [
        "### Save results"
      ]
    },
    {
      "cell_type": "code",
      "execution_count": null,
      "metadata": {
        "id": "A6zgIOlOnEAx"
      },
      "outputs": [],
      "source": [
        "predictions_val.to_csv('lstm_predictions_validation.csv', header=False, index=False)"
      ]
    },
    {
      "cell_type": "code",
      "execution_count": null,
      "metadata": {
        "id": "LqIuIWyCiuxb"
      },
      "outputs": [],
      "source": [
        "predictions_test.to_csv('lstn_predictions_test.csv', header=False, index=False)"
      ]
    },
    {
      "cell_type": "code",
      "execution_count": null,
      "metadata": {
        "colab": {
          "base_uri": "https://localhost:8080/"
        },
        "id": "TsziHBiHNmwl",
        "outputId": "4224319e-d1d1-4bd1-edda-e1410c8ee443"
      },
      "outputs": [
        {
          "name": "stdout",
          "output_type": "stream",
          "text": [
            "Class level: \n",
            "Class  1 precision: 0.3171 recall: 0.2229\n",
            "Class  2 precision: 0.4089 recall: 0.3725\n",
            "Class  3 precision: 0.3604 recall: 0.3469\n",
            "Class  4 precision: 0.0000 recall: 0.0000\n",
            "Class  5 precision: 0.6203 recall: 0.6523\n",
            "Class  6 precision: 0.2872 recall: 0.1139\n",
            "Class  7 precision: 0.5361 recall: 0.3586\n",
            "Class  8 precision: 0.5000 recall: 0.0968\n",
            "Class  9 precision: 0.5346 recall: 0.5524\n",
            "----------------------------\n",
            "Movie (document) level: \n",
            "Precision: 0.4853\n",
            "Recall: 0.4566\n"
          ]
        }
      ],
      "source": [
        "!python3 scripts/genres_similarity_eval_script.py lstm_predictions_validation.csv data/Validation-dataset-genres.csv"
      ]
    }
  ],
  "metadata": {
    "accelerator": "GPU",
    "colab": {
      "gpuType": "T4",
      "machine_shape": "hm",
      "provenance": []
    },
    "kernelspec": {
      "display_name": "Python 3",
      "name": "python3"
    },
    "language_info": {
      "codemirror_mode": {
        "name": "ipython",
        "version": 3
      },
      "file_extension": ".py",
      "mimetype": "text/x-python",
      "name": "python",
      "nbconvert_exporter": "python",
      "pygments_lexer": "ipython3",
      "version": "3.9.13"
    }
  },
  "nbformat": 4,
  "nbformat_minor": 0
}
